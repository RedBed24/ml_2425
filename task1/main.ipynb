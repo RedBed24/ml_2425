{
 "cells": [
  {
   "cell_type": "markdown",
   "metadata": {},
   "source": [
    "# Task 1\n",
    "\n",
    "Authors:\n",
    "\n",
    "- Marcelo Chinarro Cabrero\n",
    "- Antonio Gómez Jimeno\n",
    "- Samuel Espejo Gil"
   ]
  },
  {
   "cell_type": "markdown",
   "metadata": {},
   "source": [
    "## Exploratory data analysis\n",
    "\n",
    "In this section, we will summarise the main characteristics of the dataset\n",
    "and make decisions on how to handle it, based on the graphs, correlation\n",
    "analysis, missing value analysis, etc."
   ]
  },
  {
   "cell_type": "code",
   "execution_count": null,
   "metadata": {},
   "outputs": [],
   "source": [
    "from ucimlrepo import fetch_ucirepo\n",
    "# fetch dataset\n",
    "wine_quality = fetch_ucirepo(id=186)\n",
    "# data (as pandas dataframes)\n",
    "X = wine_quality.data.features\n",
    "y = wine_quality.data.targets\n",
    "# metadata\n",
    "print(wine_quality.metadata)\n",
    "# variable information\n",
    "print(wine_quality.variables)"
   ]
  },
  {
   "cell_type": "markdown",
   "metadata": {},
   "source": [
    "## Approach\n",
    "\n",
    "- Select a regression algorithm to predict wine quality as a continuous value.\n",
    "- Select a classification algorithm to predict wine quality as a categorical variable.\n",
    "\n",
    "Justify the choice of each algorithm based on its performance on the dataset."
   ]
  },
  {
   "cell_type": "markdown",
   "metadata": {},
   "source": [
    "## Model performance\n",
    "\n",
    "- For regression, evaluate the model using metrics like Mean Absolute Error (MAE), Mean Square Error (MSE), or R².\n",
    "- For classification, evaluate the model using at least the following metrics: confusion matrix, ROC and F1-score.\n",
    "\n",
    "NOTE: The appropriate choice of metrics and their interpretation will be assessed.\n"
   ]
  },
  {
   "cell_type": "markdown",
   "metadata": {},
   "source": [
    "## Comparison\n",
    "\n",
    "After running both models, compare their performance. In your notebook,\n",
    "provide a reflection on which approach (regression vs. classification) might\n",
    "be more suitable for this problem and why."
   ]
  }
 ],
 "metadata": {
  "kernelspec": {
   "display_name": ".venv",
   "language": "python",
   "name": "python3"
  },
  "language_info": {
   "codemirror_mode": {
    "name": "ipython",
    "version": 3
   },
   "file_extension": ".py",
   "mimetype": "text/x-python",
   "name": "python",
   "nbconvert_exporter": "python",
   "pygments_lexer": "ipython3",
   "version": "3.12.6"
  }
 },
 "nbformat": 4,
 "nbformat_minor": 2
}
