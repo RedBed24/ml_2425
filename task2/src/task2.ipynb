{
 "cells": [
  {
   "cell_type": "code",
   "execution_count": null,
   "metadata": {},
   "outputs": [],
   "source": [
    "import pandas as pd\n",
    "import numpy as np\n",
    "import matplotlib.pyplot as plt\n",
    "import seaborn as sns"
   ]
  },
  {
   "cell_type": "markdown",
   "metadata": {},
   "source": [
    "## Load data"
   ]
  },
  {
   "cell_type": "code",
   "execution_count": null,
   "metadata": {},
   "outputs": [],
   "source": [
    "train = pd.read_csv('../data/training_set_features.csv')\n",
    "train.head()"
   ]
  },
  {
   "cell_type": "code",
   "execution_count": null,
   "metadata": {},
   "outputs": [],
   "source": [
    "label = pd.read_csv('../data/training_set_labels.csv')\n",
    "label.head()"
   ]
  },
  {
   "cell_type": "code",
   "execution_count": null,
   "metadata": {},
   "outputs": [],
   "source": [
    "test = pd.read_csv('../data/test_set_features.csv')\n",
    "test.head()"
   ]
  },
  {
   "cell_type": "code",
   "execution_count": null,
   "metadata": {},
   "outputs": [],
   "source": [
    "submission_df = pd.DataFrame(test['respondent_id'])\n",
    "submission_df.head()"
   ]
  },
  {
   "cell_type": "code",
   "execution_count": null,
   "metadata": {},
   "outputs": [],
   "source": [
    "train['h1n1_target'] = label['h1n1_vaccine']\n",
    "train['seasonal_target'] = label['seasonal_vaccine']\n",
    "train.head()"
   ]
  },
  {
   "cell_type": "markdown",
   "metadata": {},
   "source": [
    "## Data preprocessing"
   ]
  },
  {
   "cell_type": "code",
   "execution_count": null,
   "metadata": {},
   "outputs": [],
   "source": [
    "train.drop(columns=['respondent_id'], inplace=True)\n",
    "test.drop(columns=['respondent_id'], inplace=True)"
   ]
  },
  {
   "cell_type": "code",
   "execution_count": null,
   "metadata": {},
   "outputs": [],
   "source": [
    "# One hot encoding in categorical columns in 0 and 1\n",
    "train = pd.get_dummies(train)\n",
    "test = pd.get_dummies(test)\n",
    "\n",
    "# Transformar True y False en 1 y 0\n",
    "train = train * 1\n",
    "test = test * 1"
   ]
  },
  {
   "cell_type": "code",
   "execution_count": null,
   "metadata": {},
   "outputs": [],
   "source": [
    "# Comprobar las características más importantes según un Random Forest\n",
    "from sklearn.ensemble import RandomForestClassifier\n",
    "\n",
    "# Crear un clasificador de Random Forest\n",
    "rf_h1n1 = RandomForestClassifier(n_estimators=1000, random_state=42)\n",
    "\n",
    "# Entrenar el modelo\n",
    "rf_h1n1.fit(train.drop(['h1n1_target', 'seasonal_target'], axis=1), train['seasonal_target'])\n",
    "\n",
    "# Obtener la importancia de las características\n",
    "importances = rf_h1n1.feature_importances_\n",
    "\n",
    "# Crear un DataFrame con las características y su importancia\n",
    "feature_importances = pd.DataFrame({'feature': train.drop(['h1n1_target', 'seasonal_target'], axis=1).columns, 'importance': importances})\n",
    "feature_importances = feature_importances.sort_values('importance', ascending=False).reset_index(drop=True)\n",
    "\n",
    "# Mostrar las características que sobrepasen un umbral\n",
    "threshold = 0.015\n",
    "selected_features = feature_importances[feature_importances['importance'] > threshold]"
   ]
  },
  {
   "cell_type": "code",
   "execution_count": null,
   "metadata": {},
   "outputs": [],
   "source": [
    "# # Eliminar outliers\n",
    "# Q1 = train.quantile(0.15)\n",
    "# Q3 = train.quantile(0.85)\n",
    "# IQR = Q3 - Q1\n",
    "\n",
    "# train = train[~((train < (Q1 - 1.5 * IQR)) | (train > (Q3 + 1.5 * IQR))).any(axis=1)]\n",
    "\n",
    "# # Imputar valores faltantes\n",
    "# train = train.fillna(train.mean())\n",
    "\n",
    "# # Eliminar de y las filas que se eliminaron de X\n",
    "# label = label[label.index.isin(train.index)]"
   ]
  },
  {
   "cell_type": "code",
   "execution_count": null,
   "metadata": {},
   "outputs": [],
   "source": [
    "train.isna().sum()"
   ]
  },
  {
   "cell_type": "code",
   "execution_count": null,
   "metadata": {},
   "outputs": [],
   "source": [
    "for col in train.columns:\n",
    "    train[col] = train[col].fillna(train[col].mode()[0])"
   ]
  },
  {
   "cell_type": "code",
   "execution_count": null,
   "metadata": {},
   "outputs": [],
   "source": [
    "# Mostrar matriz de correlación\n",
    "corr = train.corr()\n",
    "plt.figure(figsize=(20, 20))\n",
    "sns.heatmap(corr, annot=True, cmap='coolwarm')\n",
    "plt.show()"
   ]
  },
  {
   "cell_type": "code",
   "execution_count": null,
   "metadata": {},
   "outputs": [],
   "source": [
    "# Feature importance\n",
    "from sklearn.ensemble import RandomForestClassifier\n",
    "\n",
    "rf = RandomForestClassifier(n_estimators=100, random_state=42)\n",
    "rf.fit(train, label['h1n1_vaccine'])\n",
    "\n",
    "importances = rf.feature_importances_\n",
    "indices = np.argsort(importances)[::-1]\n",
    "\n",
    "plt.figure(figsize=(20, 10))\n",
    "plt.title('Feature Importances')\n",
    "plt.bar(range(train.shape[1]), importances[indices], align='center')\n",
    "plt.xticks(range(train.shape[1]), train.columns[indices], rotation=90)\n",
    "plt.show()"
   ]
  },
  {
   "cell_type": "code",
   "execution_count": null,
   "metadata": {},
   "outputs": [],
   "source": [
    "# selected_features = [\n",
    "#  'h1n1_concern',\n",
    "#  'behavioral_avoidance',\n",
    "#  'behavioral_wash_hands',\n",
    "#  'behavioral_large_gatherings',\n",
    "#  'doctor_recc_seasonal',\n",
    "#  'child_under_6_months',\n",
    "#  'health_worker',\n",
    "#  'health_insurance',\n",
    "#  'opinion_seas_sick_from_vacc',\n",
    "#  'household_adults',\n",
    "#  'household_children'\n",
    "# ]\n",
    "\n",
    "# train = train[selected_features]\n",
    "# test = test[selected_features]"
   ]
  },
  {
   "cell_type": "code",
   "execution_count": null,
   "metadata": {},
   "outputs": [],
   "source": [
    "y_h1n1_vaccine = label['h1n1_vaccine']\n",
    "y_seasonal_vaccine = label['seasonal_vaccine']"
   ]
  },
  {
   "cell_type": "markdown",
   "metadata": {},
   "source": [
    "## Random Forest"
   ]
  },
  {
   "cell_type": "markdown",
   "metadata": {},
   "source": [
    "### H1N1 vaccine"
   ]
  },
  {
   "cell_type": "code",
   "execution_count": null,
   "metadata": {},
   "outputs": [],
   "source": [
    "from sklearn.model_selection import train_test_split\n",
    "from sklearn.ensemble import RandomForestClassifier\n",
    "\n",
    "X_train_h1n1, X_test_h1n1, y_train_h1n1, y_test_h1n1 = train_test_split(train[selected_features], train['h1n1_target'], test_size=0.2, random_state=42)\n",
    "\n",
    "rf_h1n1 = RandomForestClassifier(n_estimators=1000, random_state=42)\n",
    "rf_h1n1.fit(X_train_h1n1, y_train_h1n1)"
   ]
  },
  {
   "cell_type": "code",
   "execution_count": null,
   "metadata": {},
   "outputs": [],
   "source": [
    "y_test_pred_h1n1 = rf_h1n1.predict_proba(X_test_h1n1)[:, 1]"
   ]
  },
  {
   "cell_type": "code",
   "execution_count": null,
   "metadata": {},
   "outputs": [],
   "source": [
    "# Roc curve\n",
    "from sklearn.metrics import roc_curve, roc_auc_score\n",
    "\n",
    "fig, ax = plt.subplots()\n",
    "fpr, tpr, thresholds = roc_curve(y_test_h1n1, y_test_pred_h1n1)\n",
    "ax.plot(fpr, tpr)\n",
    "ax.plot([0, 1], [0, 1], transform=ax.transAxes, ls=\"--\", c=\".3\")\n",
    "ax.set_title(f\"Roc curve AUC: {roc_auc_score(y_test_h1n1, y_test_pred_h1n1)}\")\n",
    "plt.show()"
   ]
  },
  {
   "cell_type": "markdown",
   "metadata": {},
   "source": [
    "### Seasonal vaccine"
   ]
  },
  {
   "cell_type": "code",
   "execution_count": null,
   "metadata": {},
   "outputs": [],
   "source": [
    "X_train_seasonal, X_test_seasonal, y_train_seasonal, y_test_seasonal = train_test_split(train, y_seasonal_vaccine, test_size=0.2, random_state=42)\n",
    "\n",
    "rf_seasonal = RandomForestClassifier(n_estimators=1000, random_state=42)\n",
    "rf_seasonal.fit(X_train_seasonal, y_train_seasonal)"
   ]
  },
  {
   "cell_type": "code",
   "execution_count": null,
   "metadata": {},
   "outputs": [],
   "source": [
    "y_test_pred_seasonal = rf_seasonal.predict_proba(X_test_seasonal)[:, 1]"
   ]
  },
  {
   "cell_type": "code",
   "execution_count": null,
   "metadata": {},
   "outputs": [],
   "source": [
    "# Roc curve\n",
    "from sklearn.metrics import roc_curve, roc_auc_score\n",
    "\n",
    "fig, ax = plt.subplots()\n",
    "fpr, tpr, thresholds = roc_curve(y_test_seasonal, y_test_pred_seasonal)\n",
    "ax.plot(fpr, tpr)\n",
    "ax.plot([0, 1], [0, 1], transform=ax.transAxes, ls=\"--\", c=\".3\")\n",
    "ax.set_title(f\"Roc curve AUC: {roc_auc_score(y_test_seasonal, y_test_pred_seasonal)}\")\n",
    "plt.show()"
   ]
  },
  {
   "cell_type": "markdown",
   "metadata": {},
   "source": [
    "## Convert submission dataset to csv"
   ]
  },
  {
   "cell_type": "code",
   "execution_count": null,
   "metadata": {},
   "outputs": [],
   "source": [
    "submission_df.head()"
   ]
  },
  {
   "cell_type": "code",
   "execution_count": null,
   "metadata": {},
   "outputs": [],
   "source": [
    "y_h1n1_submission_pred = rf_h1n1.predict_proba(test)[:, 1]\n",
    "y_seasonal_submission_pred = rf_seasonal.predict_proba(test)[:, 1]\n",
    "\n",
    "submission_df['h1n1_vaccine'] = y_h1n1_submission_pred\n",
    "submission_df['seasonal_vaccine'] = y_seasonal_submission_pred"
   ]
  },
  {
   "cell_type": "code",
   "execution_count": null,
   "metadata": {},
   "outputs": [],
   "source": [
    "submission_df.to_csv('submission.csv', index=False)"
   ]
  }
 ],
 "metadata": {
  "language_info": {
   "name": "python"
  }
 },
 "nbformat": 4,
 "nbformat_minor": 2
}
